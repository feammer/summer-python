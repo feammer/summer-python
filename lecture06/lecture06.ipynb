{
 "cells": [
  {
   "cell_type": "code",
   "execution_count": 1,
   "metadata": {
    "tags": []
   },
   "outputs": [
    {
     "name": "stdout",
     "output_type": "stream",
     "text": [
      "['GOOGLE Inc.\\n', 'Microsoft Corporation\\n', 'Apple Inc.\\n', 'Facebook, lnc.']\n"
     ]
    }
   ],
   "source": [
    "with open('companies.txt', 'r') as f:\n",
    "    content = f.readlines()\n",
    "    print(content)\n",
    "\n",
    "with open('scompanies.txt', 'w') as f:\n",
    "    for index, value in enumerate(content):\n",
    "        f.write(str(index + 1) + ' ' + value)"
   ]
  },
  {
   "cell_type": "code",
   "execution_count": 2,
   "metadata": {
    "collapsed": false,
    "jupyter": {
     "outputs_hidden": false
    },
    "pycharm": {
     "name": "#%%\n"
    }
   },
   "outputs": [
    {
     "name": "stdout",
     "output_type": "stream",
     "text": [
      "         id diagnosis  radius_mean  texture_mean  perimeter_mean\n",
      "0    842302         M        17.99         10.38          122.80\n",
      "1    842517         M        20.57         17.77          132.90\n",
      "2  84300903         M        19.69         21.25          130.00\n",
      "3  84348301         M        11.42         20.38           77.58\n",
      "4  84358402         M        20.29         14.34          135.10\n"
     ]
    }
   ],
   "source": [
    "from pandas import read_csv\n",
    "\n",
    "df = read_csv('bc_data.csv')\n",
    "keys = list(df.keys())\n",
    "content5 = df.head(5)[keys[:5]]\n",
    "print(content5)\n",
    "\n",
    "content8 = df.head(8)[keys[:8]]\n",
    "content8.to_csv('sbc_data.csv')"
   ]
  },
  {
   "cell_type": "code",
   "execution_count": null,
   "metadata": {},
   "outputs": [],
   "source": []
  }
 ],
 "metadata": {
  "kernelspec": {
   "display_name": "Python 3 (ipykernel)",
   "language": "python",
   "name": "python3"
  },
  "language_info": {
   "codemirror_mode": {
    "name": "ipython",
    "version": 3
   },
   "file_extension": ".py",
   "mimetype": "text/x-python",
   "name": "python",
   "nbconvert_exporter": "python",
   "pygments_lexer": "ipython3",
   "version": "3.9.12"
  }
 },
 "nbformat": 4,
 "nbformat_minor": 4
}
